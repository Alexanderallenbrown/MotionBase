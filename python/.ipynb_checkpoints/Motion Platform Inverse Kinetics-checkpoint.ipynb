{
 "cells": [
  {
   "cell_type": "markdown",
   "metadata": {},
   "source": [
    "## Inverse Kinematics for a Rotary Stewart Platform\n",
    "\n",
    "This page will show you how, given the (diagonal) inertia tensor and mass for your loaded motion platform, the accelerations and rotations you requested for your platform to undergo, and the directions of the connecting rods between the platform and the motor (solved in another notebook), you can obtain the forces in each connecting rod, and eventually the torques needed in each of the 6 motors. This is imperative when designing your platform so that you choose motors that can perform appropriately.\n",
    "\n",
    "### Newton's Laws\n",
    "\n",
    "We will be using Newton's 2nd law to solve the inverse kinematics problem. There are 6 connecting rods attached to the motion base. \n",
    "\n",
    "$$ \\sum{\\vec{F_i}} = m\\vec{a}$$\n",
    "\n",
    "This vector equation can be broken down into three components.\n",
    "\n",
    "$$\\sum{F_i \\hat{e}_i \\cdot \\hat{\\imath}} = m\\ddot{x}$$\n",
    "\n",
    "$$ \\sum{F_i \\hat{e}_i \\cdot \\hat{\\jmath}} = m\\ddot{y}$$\n",
    "\n",
    "$$ \\sum{F_i \\hat{e}_i \\cdot \\hat{k}} = m\\ddot{z}$$\n",
    "\n",
    "We can also write an equation for the moment balance on the platform, taken about the center of mass of the platform. We will denote by $\\vec{r}_{i/g}$ the vector connecting the platform's center of mass to each force application point. We can then write the 6 moments caused by each of the 6 connecting rod forces (connecting rods are two-force members) as:\n",
    "\n",
    "$$\\sum \\vec{r}_{i/g} \\times  \\left( F_i \\hat{e}_i \\right) = {J}\\vec{\\ddot{\\theta}}  $$\n",
    "\n"
   ]
  },
  {
   "cell_type": "code",
   "execution_count": null,
   "metadata": {
    "collapsed": true
   },
   "outputs": [],
   "source": []
  }
 ],
 "metadata": {
  "kernelspec": {
   "display_name": "Python 2",
   "language": "python",
   "name": "python2"
  },
  "language_info": {
   "codemirror_mode": {
    "name": "ipython",
    "version": 2
   },
   "file_extension": ".py",
   "mimetype": "text/x-python",
   "name": "python",
   "nbconvert_exporter": "python",
   "pygments_lexer": "ipython2",
   "version": "2.7.8"
  }
 },
 "nbformat": 4,
 "nbformat_minor": 0
}
